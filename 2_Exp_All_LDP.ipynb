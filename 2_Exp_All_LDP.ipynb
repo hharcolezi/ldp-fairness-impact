{
 "cells": [
  {
   "cell_type": "markdown",
   "id": "828a8367",
   "metadata": {},
   "source": [
    "## Static parameters"
   ]
  },
  {
   "cell_type": "code",
   "execution_count": null,
   "id": "4f7fb4ac",
   "metadata": {},
   "outputs": [],
   "source": [
    "import numpy as np\n",
    "\n",
    "nb_seed = 20\n",
    "dataset = 'adult' # select one in ['adult', 'ACSCoverage', 'LSAC']\n",
    "\n",
    "# read LGBM hyparameters of non-private model\n",
    "params = np.load('results/' + dataset + '/non_private' + '/LGBM_hyperparameters.npy', allow_pickle='TRUE').item()\n",
    "\n",
    "# for ML\n",
    "test_size = 0.2 # test proportion for train_test_split\n",
    "if dataset == 'adult':\n",
    "    target = 'income'\n",
    "    protected_attribute = 'gender'\n",
    "    \n",
    "elif dataset == 'ACSCoverage':\n",
    "    target = 'PUBCOV'\n",
    "    protected_attribute = 'DIS'\n",
    "    \n",
    "elif dataset == 'LSAC':\n",
    "    target = 'pass_bar'\n",
    "    protected_attribute = 'race1' \n",
    "\n",
    "# for privacy\n",
    "lst_eps = [0.25, 0.5, 1, 2, 4, 8, 10, 20, 50] # epsilon-LDP values\n",
    "if dataset == 'adult':\n",
    "    lst_sensitive_att = [protected_attribute, 'race', 'native-country', 'age']\n",
    "    \n",
    "elif dataset == 'ACSCoverage':\n",
    "    lst_sensitive_att = [protected_attribute, 'AGEP', 'SEX', 'SCHL']\n",
    "\n",
    "elif dataset == 'LSAC':\n",
    "    lst_sensitive_att = [protected_attribute, 'fam_inc', 'gender', 'fulltime']"
   ]
  },
  {
   "cell_type": "markdown",
   "id": "1895b9d1",
   "metadata": {},
   "source": [
    "## Writing function"
   ]
  },
  {
   "cell_type": "code",
   "execution_count": null,
   "id": "662cbe9e",
   "metadata": {},
   "outputs": [],
   "source": [
    "def write(folder_name, values, mechanism, epsilon):\n",
    "    with open(folder_name + \"/Appendix_LGBM_results_\"+mechanism+\"_eps_\"+str(epsilon)+\".csv\", mode='a', newline='') as scores_file:\n",
    "        scores_writer = csv.writer(scores_file, delimiter=',', quotechar='\"', quoting=csv.QUOTE_MINIMAL)\n",
    "        scores_writer.writerow(values)\n",
    "    scores_file.close()    "
   ]
  },
  {
   "cell_type": "markdown",
   "id": "a5abd282",
   "metadata": {},
   "source": [
    "## Importing"
   ]
  },
  {
   "cell_type": "code",
   "execution_count": null,
   "id": "7c0a04b3",
   "metadata": {},
   "outputs": [],
   "source": [
    "# General imports\n",
    "import pandas as pd\n",
    "import time\n",
    "import csv\n",
    "from numba import jit\n",
    "\n",
    "# sklearn imports\n",
    "from lightgbm import LGBMClassifier\n",
    "from sklearn.metrics import accuracy_score, confusion_matrix, f1_score, roc_auc_score, recall_score\n",
    "\n",
    "# designed functions\n",
    "from functions import get_preprocessed_encoded_sets_with_ldp, fairness_metrics, IVE_LH, IVE_SS, IVE_THE\n",
    "\n",
    "@jit(nopython=True)\n",
    "def setting_seed(seed):\n",
    "    \"\"\" Function to set seed for reproducibility.\n",
    "    Calling numpy.random.seed() from interpreted code will \n",
    "    seed the NumPy random generator, not the Numba random generator.\n",
    "    Check: https://numba.readthedocs.io/en/stable/reference/numpysupported.html\"\"\"\n",
    "    \n",
    "    np.random.seed(seed)"
   ]
  },
  {
   "cell_type": "markdown",
   "id": "98f616e9",
   "metadata": {},
   "source": [
    "## Reading dataset"
   ]
  },
  {
   "cell_type": "code",
   "execution_count": null,
   "id": "afdf45b3",
   "metadata": {
    "scrolled": false
   },
   "outputs": [],
   "source": [
    "if dataset == 'adult':\n",
    "    df = pd.read_csv('datasets/db_adult_processed_26k.csv')\n",
    "    \n",
    "elif dataset == 'ACSCoverage':\n",
    "    df = pd.read_csv('datasets/db_ACSCoverage.csv')\n",
    "\n",
    "elif dataset == 'LSAC':\n",
    "    df = pd.read_csv('datasets/db_LSAC.csv')\n",
    "\n",
    "df"
   ]
  },
  {
   "cell_type": "markdown",
   "id": "5d55fd99",
   "metadata": {},
   "source": [
    "## Run LGBM on DP data"
   ]
  },
  {
   "cell_type": "code",
   "execution_count": null,
   "id": "ce5720f6",
   "metadata": {},
   "outputs": [],
   "source": [
    "header = [\"seed\", \n",
    "          \"acc\", \"f1\", \"auc\", \"recall\", \"cm\",\n",
    "          \"SP_a_1\", \"SP_a_0\", \"SPD\", \"DI\", \n",
    "          \"EO_a_1\", \"EO_a_0\", \"EOD\", \n",
    "          \"OA_a_1\", \"OA_a_0\", \"OAD\",\n",
    "         ]\n",
    "\n",
    "starttime = time.time()\n",
    "\n",
    "# domain size of sensitive attributes\n",
    "lst_k = {att: len(set(df[att])) for att in lst_sensitive_att}\n",
    "\n",
    "for mechanism in ['GRR', 'SUE', 'OUE', 'SS', 'THE', 'BLH', 'OLH']:\n",
    "    print(mechanism)\n",
    "    \n",
    "    for split_strategy in ['uniform', 'k_based']:\n",
    "        print(split_strategy)\n",
    "        # set mechanism folder\n",
    "        folder_name = 'results/' + dataset + \"/\" + mechanism + \"/\" +  split_strategy\n",
    "\n",
    "        for epsilon in lst_eps:\n",
    "            print(epsilon)\n",
    "\n",
    "            # write head of csv file\n",
    "            write(folder_name, header, mechanism, epsilon)\n",
    "\n",
    "            # set mechanism folder\n",
    "            folder_name = 'results/' + dataset + \"/\" + mechanism + \"/\" +  split_strategy\n",
    "\n",
    "            for seed in range(nb_seed):\n",
    "                setting_seed(seed) # for reproducibility\n",
    "                np.random.seed(seed) # for reproducibility\n",
    "\n",
    "                # Train test splitting + LDP randomization + encoding\n",
    "                X_train, X_test, y_train, y_test = get_preprocessed_encoded_sets_with_ldp(df, target, test_size, seed, lst_sensitive_att, epsilon, split_strategy, lst_k, mechanism)\n",
    "\n",
    "                # instantiate and train model\n",
    "                model = LGBMClassifier(random_state=seed, n_jobs=-1, objective=\"binary\")\n",
    "                model.set_params(**params)\n",
    "                model.fit(X_train, y_train)\n",
    "                y_pred = model.predict(X_test)\n",
    "\n",
    "                # performance metrics        \n",
    "                acc = accuracy_score(y_test, y_pred)\n",
    "                f1 = f1_score(y_test, y_pred)\n",
    "                auc = roc_auc_score(y_test, y_pred)\n",
    "                recall = recall_score(y_test, y_pred)\n",
    "                cm = confusion_matrix(y_test, y_pred)\n",
    "\n",
    "                # prepare dataset for fairness analysis\n",
    "                df_fm = pd.concat([X_test, y_test], axis=1)\n",
    "                df_fm['y_pred'] = y_pred\n",
    "\n",
    "                # fairness metrics\n",
    "                fair_met = fairness_metrics(df_fm, protected_attribute, target)\n",
    "\n",
    "                # write results to csv\n",
    "                write(folder_name, \n",
    "                      [str(seed),\n",
    "                      acc, f1, auc, recall, cm,\n",
    "                      fair_met[\"SP_a_1\"], fair_met[\"SP_a_0\"], fair_met[\"SPD\"], fair_met[\"DI\"], \n",
    "                      fair_met[\"EO_a_1\"], fair_met[\"EO_a_0\"], fair_met[\"EOD\"], \n",
    "                      fair_met[\"OA_a_1\"], fair_met[\"OA_a_0\"], fair_met[\"OAD\"]], \n",
    "                      mechanism, epsilon)\n",
    "        print(\"-------------------------------------\")\n",
    "    print(\"==================================================================================\")\n",
    "\n",
    "print('That took {} seconds'.format(time.time() - starttime)) "
   ]
  },
  {
   "cell_type": "code",
   "execution_count": null,
   "id": "5cb29b6d",
   "metadata": {},
   "outputs": [],
   "source": []
  },
  {
   "cell_type": "code",
   "execution_count": null,
   "id": "4446d155",
   "metadata": {},
   "outputs": [],
   "source": []
  }
 ],
 "metadata": {
  "kernelspec": {
   "display_name": "Python 3 (ipykernel)",
   "language": "python",
   "name": "python3"
  },
  "language_info": {
   "codemirror_mode": {
    "name": "ipython",
    "version": 3
   },
   "file_extension": ".py",
   "mimetype": "text/x-python",
   "name": "python",
   "nbconvert_exporter": "python",
   "pygments_lexer": "ipython3",
   "version": "3.9.13"
  }
 },
 "nbformat": 4,
 "nbformat_minor": 5
}
